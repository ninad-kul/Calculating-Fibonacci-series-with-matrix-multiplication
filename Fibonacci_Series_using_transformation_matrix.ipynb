{
  "nbformat": 4,
  "nbformat_minor": 0,
  "metadata": {
    "colab": {
      "provenance": [],
      "authorship_tag": "ABX9TyMdRgAMdkXFjoUTmRCzVUoL",
      "include_colab_link": true
    },
    "kernelspec": {
      "name": "python3",
      "display_name": "Python 3"
    },
    "language_info": {
      "name": "python"
    }
  },
  "cells": [
    {
      "cell_type": "markdown",
      "metadata": {
        "id": "view-in-github",
        "colab_type": "text"
      },
      "source": [
        "<a href=\"https://colab.research.google.com/github/ninad-kul/Calculating-Fibonacci-series-with-matrix-multiplication/blob/main/Fibonacci_Series_using_transformation_matrix.ipynb\" target=\"_parent\"><img src=\"https://colab.research.google.com/assets/colab-badge.svg\" alt=\"Open In Colab\"/></a>"
      ]
    },
    {
      "cell_type": "code",
      "execution_count": 2,
      "metadata": {
        "id": "LxntnFgqXoFQ"
      },
      "outputs": [],
      "source": [
        "import numpy as np\n",
        "from numpy.linalg import matrix_power"
      ]
    },
    {
      "cell_type": "markdown",
      "source": [
        "Calculating the N-th element of fibonacci series"
      ],
      "metadata": {
        "id": "Bwsc_hvoHVzI"
      }
    },
    {
      "cell_type": "code",
      "source": [
        "def fib_matrix(n):\n",
        "    A = np.array([[1,1],         # Transfromation matrix\n",
        "                  [1,0]])\n",
        "\n",
        "    x = np.array([0,1])          # First 2 elements are 0 and 1\n",
        "    A_transf = matrix_power(A,n)\n",
        "    res = np.dot(A_transf,x)\n",
        "    value = res[0]\n",
        "    return value\n",
        "\n",
        "fib_matrix(10)"
      ],
      "metadata": {
        "colab": {
          "base_uri": "https://localhost:8080/"
        },
        "id": "WbjtzIXCHVYx",
        "outputId": "487df71a-6a4c-4a6b-bed6-241490dc8785"
      },
      "execution_count": 8,
      "outputs": [
        {
          "output_type": "execute_result",
          "data": {
            "text/plain": [
              "55"
            ]
          },
          "metadata": {},
          "execution_count": 8
        }
      ]
    },
    {
      "cell_type": "markdown",
      "source": [
        "Printing fibonacci series"
      ],
      "metadata": {
        "id": "e9nkSqVwHuc8"
      }
    },
    {
      "cell_type": "code",
      "source": [
        "n = 10\n",
        "fibo_list = []\n",
        "\n",
        "# it will print one element less because the for loop runs upto n-4\n",
        "for i in range(n):\n",
        "    fibo_list.append(fib_matrix(i))\n",
        "print(fibo_list)\n"
      ],
      "metadata": {
        "colab": {
          "base_uri": "https://localhost:8080/"
        },
        "id": "GfcHE6XkHuLd",
        "outputId": "7f811d55-061a-4fcf-fe14-4dda31428f0d"
      },
      "execution_count": 9,
      "outputs": [
        {
          "output_type": "stream",
          "name": "stdout",
          "text": [
            "[0, 1, 1, 2, 3, 5, 8, 13, 21, 34]\n"
          ]
        }
      ]
    },
    {
      "cell_type": "markdown",
      "source": [
        "Fibonacci function using recursion addition"
      ],
      "metadata": {
        "id": "B_ef2eJ3Dwgy"
      }
    },
    {
      "cell_type": "code",
      "source": [
        "fib = [0, 1]\n",
        "\n",
        "def fibonacci(n):\n",
        "    if n<0:\n",
        "        print(\"Invalid input\")\n",
        "    elif n<len(fib):\n",
        "        return fib[n]\n",
        "    else:\n",
        "        fib.append(fibonacci(n-1) + fibonacci(n-2))\n",
        "        return fib[n]\n",
        "\n",
        "print(fibonacci(10))\n",
        "print(fib)"
      ],
      "metadata": {
        "colab": {
          "base_uri": "https://localhost:8080/"
        },
        "id": "rQ1UXv927QMl",
        "outputId": "e3fa0698-d9f5-4afc-cf66-e69a0e0cc7c1"
      },
      "execution_count": null,
      "outputs": [
        {
          "output_type": "stream",
          "name": "stdout",
          "text": [
            "55\n",
            "[0, 1, 1, 2, 3, 5, 8, 13, 21, 34, 55]\n"
          ]
        }
      ]
    },
    {
      "cell_type": "markdown",
      "source": [
        "Trials"
      ],
      "metadata": {
        "id": "y1jbjUFcIYPG"
      }
    },
    {
      "cell_type": "code",
      "source": [
        "A = np.array([[1,1],[1,0]])\n",
        "x = np.array([0,1])\n",
        "A2 = matrix_power(A,9)\n",
        "res = np.dot(A2,x)\n",
        "result = res[0]\n",
        "\n",
        "print(\"Res -- \",res)\n",
        "print()\n",
        "print(\"Nth element -- \",result)"
      ],
      "metadata": {
        "id": "hQZ_vF4mHwJR",
        "colab": {
          "base_uri": "https://localhost:8080/"
        },
        "outputId": "adf5f6f2-51b4-40a0-ef1d-c635f2eac966"
      },
      "execution_count": null,
      "outputs": [
        {
          "output_type": "stream",
          "name": "stdout",
          "text": [
            "Res --  [34 21]\n",
            "\n",
            "Nth element --  34\n"
          ]
        }
      ]
    },
    {
      "cell_type": "code",
      "source": [],
      "metadata": {
        "id": "KgudvQ5J-_Tp"
      },
      "execution_count": null,
      "outputs": []
    }
  ]
}